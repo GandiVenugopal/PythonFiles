{
 "cells": [
  {
   "cell_type": "code",
   "id": "initial_id",
   "metadata": {
    "collapsed": true,
    "ExecuteTime": {
     "end_time": "2025-04-11T16:39:53.805900Z",
     "start_time": "2025-04-11T16:39:53.799864Z"
    }
   },
   "source": [
    "a=[1,'venu',\"car\",7.7]\n",
    "print(a)"
   ],
   "outputs": [
    {
     "name": "stdout",
     "output_type": "stream",
     "text": [
      "[1, 'venu', 'car', 7.7]\n"
     ]
    }
   ],
   "execution_count": 1
  },
  {
   "metadata": {
    "ExecuteTime": {
     "end_time": "2025-04-10T22:10:09.964002Z",
     "start_time": "2025-04-10T22:10:09.960066Z"
    }
   },
   "cell_type": "code",
   "source": [
    "if 'venu' in a:\n",
    "    print(\"It have a Venu in it\")\n",
    "else:\n",
    "    print(\"List does not contain a Venu\")"
   ],
   "id": "df90c06ead4bcd41",
   "outputs": [
    {
     "name": "stdout",
     "output_type": "stream",
     "text": [
      "It have a Venu in it\n"
     ]
    }
   ],
   "execution_count": 2
  },
  {
   "metadata": {
    "ExecuteTime": {
     "end_time": "2025-04-10T22:11:44.592900Z",
     "start_time": "2025-04-10T22:11:44.587658Z"
    }
   },
   "cell_type": "code",
   "source": [
    "print(a[1])\n",
    "print(a[-1])"
   ],
   "id": "a2e1e455cf565a8b",
   "outputs": [
    {
     "name": "stdout",
     "output_type": "stream",
     "text": [
      "venu\n",
      "7.7\n"
     ]
    }
   ],
   "execution_count": 9
  },
  {
   "metadata": {
    "ExecuteTime": {
     "end_time": "2025-04-10T22:11:00.882702Z",
     "start_time": "2025-04-10T22:11:00.878113Z"
    }
   },
   "cell_type": "code",
   "source": [
    "for i in a:\n",
    "    print(i)"
   ],
   "id": "f29c551dd73a3cdb",
   "outputs": [
    {
     "name": "stdout",
     "output_type": "stream",
     "text": [
      "1\n",
      "venu\n",
      "car\n",
      "7.7\n"
     ]
    }
   ],
   "execution_count": 5
  },
  {
   "metadata": {
    "ExecuteTime": {
     "end_time": "2025-04-10T22:21:47.615622Z",
     "start_time": "2025-04-10T22:21:47.610930Z"
    }
   },
   "cell_type": "code",
   "source": [
    "#Slicing\n",
    "n=[1,2,3,4,5,6,7,8]\n",
    "print(n)\n",
    "print(n[:])"
   ],
   "id": "c3e8562972162fb5",
   "outputs": [
    {
     "name": "stdout",
     "output_type": "stream",
     "text": [
      "[1, 2, 3, 4, 5, 6, 7, 8]\n",
      "[1, 2, 3, 4, 5, 6, 7, 8]\n"
     ]
    }
   ],
   "execution_count": 34
  },
  {
   "metadata": {
    "ExecuteTime": {
     "end_time": "2025-04-10T22:21:50.673923Z",
     "start_time": "2025-04-10T22:21:50.670208Z"
    }
   },
   "cell_type": "code",
   "source": [
    "print(n[1:])\n",
    "print(n[2:])\n",
    "print(n[3:])"
   ],
   "id": "c9490c4cf317f327",
   "outputs": [
    {
     "name": "stdout",
     "output_type": "stream",
     "text": [
      "[2, 3, 4, 5, 6, 7, 8]\n",
      "[3, 4, 5, 6, 7, 8]\n",
      "[4, 5, 6, 7, 8]\n"
     ]
    }
   ],
   "execution_count": 35
  },
  {
   "metadata": {
    "ExecuteTime": {
     "end_time": "2025-04-10T22:21:53.960681Z",
     "start_time": "2025-04-10T22:21:53.956166Z"
    }
   },
   "cell_type": "code",
   "source": [
    "print(n[:4])\n",
    "print(n[:7])\n",
    "print(n[2:5])"
   ],
   "id": "dd3708f843fe28de",
   "outputs": [
    {
     "name": "stdout",
     "output_type": "stream",
     "text": [
      "[1, 2, 3, 4]\n",
      "[1, 2, 3, 4, 5, 6, 7]\n",
      "[3, 4, 5]\n"
     ]
    }
   ],
   "execution_count": 36
  },
  {
   "metadata": {
    "ExecuteTime": {
     "end_time": "2025-04-10T22:21:55.522895Z",
     "start_time": "2025-04-10T22:21:55.518909Z"
    }
   },
   "cell_type": "code",
   "source": "print(n[::2])",
   "id": "d5721a7e1684ade7",
   "outputs": [
    {
     "name": "stdout",
     "output_type": "stream",
     "text": [
      "[1, 3, 5, 7]\n"
     ]
    }
   ],
   "execution_count": 37
  },
  {
   "metadata": {},
   "cell_type": "markdown",
   "source": "",
   "id": "d7014d982965eccb"
  },
  {
   "metadata": {
    "ExecuteTime": {
     "end_time": "2025-04-10T22:22:04.185819Z",
     "start_time": "2025-04-10T22:22:04.181364Z"
    }
   },
   "cell_type": "code",
   "source": "print(n[::-1])",
   "id": "862c2e64bc8c6e30",
   "outputs": [
    {
     "name": "stdout",
     "output_type": "stream",
     "text": [
      "[8, 7, 6, 5, 4, 3, 2, 1]\n"
     ]
    }
   ],
   "execution_count": 38
  },
  {
   "metadata": {
    "ExecuteTime": {
     "end_time": "2025-04-10T22:22:06.438829Z",
     "start_time": "2025-04-10T22:22:06.435315Z"
    }
   },
   "cell_type": "code",
   "source": "print(n)",
   "id": "600d423c759fb90d",
   "outputs": [
    {
     "name": "stdout",
     "output_type": "stream",
     "text": [
      "[1, 2, 3, 4, 5, 6, 7, 8]\n"
     ]
    }
   ],
   "execution_count": 39
  },
  {
   "metadata": {
    "ExecuteTime": {
     "end_time": "2025-04-10T22:22:07.807717Z",
     "start_time": "2025-04-10T22:22:07.803232Z"
    }
   },
   "cell_type": "code",
   "source": [
    "n.append(\"A\")\n",
    "print(n)"
   ],
   "id": "12ea83768c9bc338",
   "outputs": [
    {
     "name": "stdout",
     "output_type": "stream",
     "text": [
      "[1, 2, 3, 4, 5, 6, 7, 8, 'A']\n"
     ]
    }
   ],
   "execution_count": 40
  },
  {
   "metadata": {
    "ExecuteTime": {
     "end_time": "2025-04-10T22:22:22.570156Z",
     "start_time": "2025-04-10T22:22:22.566698Z"
    }
   },
   "cell_type": "code",
   "source": [
    "n.insert(0,\"B\")\n",
    "print(n)"
   ],
   "id": "f5de287e8fb8cf88",
   "outputs": [
    {
     "name": "stdout",
     "output_type": "stream",
     "text": [
      "['B', 'B', 1, 2, 3, 4, 5, 6, 7, 8, 'A']\n"
     ]
    }
   ],
   "execution_count": 42
  },
  {
   "metadata": {
    "ExecuteTime": {
     "end_time": "2025-04-11T01:27:06.958447Z",
     "start_time": "2025-04-11T01:27:06.936612Z"
    }
   },
   "cell_type": "code",
   "source": [
    "n.remove(7)\n",
    "n.pop()\n",
    "print(n)"
   ],
   "id": "e4ddfc0150ffa3c5",
   "outputs": [
    {
     "name": "stdout",
     "output_type": "stream",
     "text": [
      "[1, 2, 3, 4, 5, 6]\n"
     ]
    }
   ],
   "execution_count": 49
  },
  {
   "metadata": {
    "ExecuteTime": {
     "end_time": "2025-04-10T22:24:07.676714Z",
     "start_time": "2025-04-10T22:24:07.672273Z"
    }
   },
   "cell_type": "code",
   "source": "print(n.index(5))",
   "id": "18826881545c7b61",
   "outputs": [
    {
     "name": "stdout",
     "output_type": "stream",
     "text": [
      "4\n"
     ]
    }
   ],
   "execution_count": 46
  },
  {
   "metadata": {
    "ExecuteTime": {
     "end_time": "2025-04-10T22:24:47.293841Z",
     "start_time": "2025-04-10T22:24:47.289703Z"
    }
   },
   "cell_type": "code",
   "source": [
    "x=[4,2,6,7,5,9]\n",
    "x.sort()\n",
    "print(x)"
   ],
   "id": "15d27bbce9357aa7",
   "outputs": [
    {
     "name": "stdout",
     "output_type": "stream",
     "text": [
      "[2, 4, 5, 6, 7, 9]\n"
     ]
    }
   ],
   "execution_count": 47
  },
  {
   "metadata": {
    "ExecuteTime": {
     "end_time": "2025-04-10T22:25:10.026115Z",
     "start_time": "2025-04-10T22:25:10.022521Z"
    }
   },
   "cell_type": "code",
   "source": [
    "x.reverse()\n",
    "print(x)"
   ],
   "id": "6afb2365b21dba17",
   "outputs": [
    {
     "name": "stdout",
     "output_type": "stream",
     "text": [
      "[9, 7, 6, 5, 4, 2]\n"
     ]
    }
   ],
   "execution_count": 48
  }
 ],
 "metadata": {
  "kernelspec": {
   "display_name": "Python 3",
   "language": "python",
   "name": "python3"
  },
  "language_info": {
   "codemirror_mode": {
    "name": "ipython",
    "version": 2
   },
   "file_extension": ".py",
   "mimetype": "text/x-python",
   "name": "python",
   "nbconvert_exporter": "python",
   "pygments_lexer": "ipython2",
   "version": "2.7.6"
  }
 },
 "nbformat": 4,
 "nbformat_minor": 5
}
