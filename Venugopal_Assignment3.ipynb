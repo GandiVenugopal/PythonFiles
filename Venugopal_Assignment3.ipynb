{
 "cells": [
  {
   "cell_type": "code",
   "id": "initial_id",
   "metadata": {
    "collapsed": true,
    "ExecuteTime": {
     "end_time": "2025-04-10T17:33:14.367169Z",
     "start_time": "2025-04-10T17:33:13.770894Z"
    }
   },
   "source": [
    "\n",
    "\n",
    "#Assignment 3\n",
    "N=5\n",
    "\n",
    "student_dict ={ }\n",
    "\n",
    "\n",
    "for i in range(N):\n",
    "    name = input(\"Enter your name: \")\n",
    "    score = float(input(\"Enter your score: \"))\n",
    "    student_dict[name]=score\n",
    "\n",
    "avg=sum(student_dict.values())/N\n",
    "topscore=max(student_dict.values())\n",
    "lowscore=min(student_dict.values())\n",
    "\n",
    "\n",
    "print(f\"Average Score: {avg:.2f}\")\n",
    "for n,s in student_dict.items():\n",
    "    if s==topscore:\n",
    "        print(f\"Top Scorer: {n}({s})\")\n",
    "    if s==lowscore:\n",
    "        print(f\"lowest scorer : {n}({s})\")"
   ],
   "outputs": [
    {
     "ename": "ModuleNotFoundError",
     "evalue": "No module named 'pyperf'",
     "output_type": "error",
     "traceback": [
      "\u001B[31m---------------------------------------------------------------------------\u001B[39m",
      "\u001B[31mModuleNotFoundError\u001B[39m                       Traceback (most recent call last)",
      "\u001B[36mCell\u001B[39m\u001B[36m \u001B[39m\u001B[32mIn[1]\u001B[39m\u001B[32m, line 1\u001B[39m\n\u001B[32m----> \u001B[39m\u001B[32m1\u001B[39m \u001B[38;5;28;01mfrom\u001B[39;00m\u001B[38;5;250m \u001B[39m\u001B[34;01mjsonschema\u001B[39;00m\u001B[34;01m.\u001B[39;00m\u001B[34;01mbenchmarks\u001B[39;00m\u001B[34;01m.\u001B[39;00m\u001B[34;01mconst_vs_enum\u001B[39;00m\u001B[38;5;250m \u001B[39m\u001B[38;5;28;01mimport\u001B[39;00m value\n\u001B[32m      3\u001B[39m \u001B[38;5;66;03m#Assignment 3\u001B[39;00m\n\u001B[32m      4\u001B[39m N=\u001B[32m5\u001B[39m\n",
      "\u001B[36mFile \u001B[39m\u001B[32mD:\\Submit\\pythonProject1\\.venv\\Lib\\site-packages\\jsonschema\\benchmarks\\const_vs_enum.py:5\u001B[39m\n\u001B[32m      1\u001B[39m \u001B[33;03m\"\"\"\u001B[39;00m\n\u001B[32m      2\u001B[39m \u001B[33;03mA benchmark for comparing equivalent validation of `const` and `enum`.\u001B[39;00m\n\u001B[32m      3\u001B[39m \u001B[33;03m\"\"\"\u001B[39;00m\n\u001B[32m----> \u001B[39m\u001B[32m5\u001B[39m \u001B[38;5;28;01mfrom\u001B[39;00m\u001B[38;5;250m \u001B[39m\u001B[34;01mpyperf\u001B[39;00m\u001B[38;5;250m \u001B[39m\u001B[38;5;28;01mimport\u001B[39;00m Runner\n\u001B[32m      7\u001B[39m \u001B[38;5;28;01mfrom\u001B[39;00m\u001B[38;5;250m \u001B[39m\u001B[34;01mjsonschema\u001B[39;00m\u001B[38;5;250m \u001B[39m\u001B[38;5;28;01mimport\u001B[39;00m Draft202012Validator\n\u001B[32m      9\u001B[39m value = [\u001B[32m37\u001B[39m] * \u001B[32m100\u001B[39m\n",
      "\u001B[31mModuleNotFoundError\u001B[39m: No module named 'pyperf'"
     ]
    }
   ],
   "execution_count": 1
  },
  {
   "metadata": {
    "ExecuteTime": {
     "end_time": "2025-04-09T04:26:06.009698Z",
     "start_time": "2025-04-09T04:25:51.932679Z"
    }
   },
   "cell_type": "code",
   "source": [
    "# Assignment 4\n",
    "N = 5000\n",
    "a=0\n",
    "\n",
    "print(\"Welcome to Simple ATM\\n 1.Check Balance \\n 2.Deposit \\n 3.Withdraw \\n 4.Exit\")\n",
    "a = int(input(\"Choose an option: \"))\n",
    "\n",
    "while a <= 4:\n",
    "    if a == 1:\n",
    "        print(f\"Available Accounts Balance: {N}\")\n",
    "    elif a == 2:\n",
    "        d = int(input(\"Enter deposit amount: \"))\n",
    "        N = N + d\n",
    "        print(f\"Available Accounts Balance: {N}\")\n",
    "    elif a == 3:\n",
    "        w = int(input(\"Enter withdraw amount: \"))\n",
    "        if w > N:\n",
    "            print(\"Insufficient Funds\")\n",
    "        else:\n",
    "            N = N - w\n",
    "            print(f\"Available Accounts Balance: {N}\")\n",
    "    elif a == 4:\n",
    "        print(\"Thank You\")\n",
    "        break\n",
    "    else:\n",
    "        print(\"Invalid Input\")\n",
    "    print(\"Welcome to Simple ATM\\n 1.Check Balance \\n 2.Deposit \\n 3.Withdraw \\n 4.Exit\")\n",
    "    a = int(input(\"Choose an option: \"))\n",
    "\n"
   ],
   "id": "c91c05048e7589f7",
   "outputs": [
    {
     "name": "stdout",
     "output_type": "stream",
     "text": [
      "Welcome to Simple ATM\n",
      " 1.Check Balance \n",
      " 2.Deposit \n",
      " 3.Withdraw \n",
      " 4.Exit\n",
      "Available Accounts Balance: 5200\n",
      "Welcome to Simple ATM\n",
      " 1.Check Balance \n",
      " 2.Deposit \n",
      " 3.Withdraw \n",
      " 4.Exit\n",
      "Available Accounts Balance: 5200\n",
      "Welcome to Simple ATM\n",
      " 1.Check Balance \n",
      " 2.Deposit \n",
      " 3.Withdraw \n",
      " 4.Exit\n",
      "Thank You\n"
     ]
    }
   ],
   "execution_count": 6
  }
 ],
 "metadata": {
  "kernelspec": {
   "display_name": "Python 3",
   "language": "python",
   "name": "python3"
  },
  "language_info": {
   "codemirror_mode": {
    "name": "ipython",
    "version": 2
   },
   "file_extension": ".py",
   "mimetype": "text/x-python",
   "name": "python",
   "nbconvert_exporter": "python",
   "pygments_lexer": "ipython2",
   "version": "2.7.6"
  }
 },
 "nbformat": 4,
 "nbformat_minor": 5
}
