{
 "cells": [
  {
   "cell_type": "code",
   "id": "initial_id",
   "metadata": {
    "collapsed": true,
    "ExecuteTime": {
     "end_time": "2025-04-10T22:49:57.552118Z",
     "start_time": "2025-04-10T22:49:57.546896Z"
    }
   },
   "source": [
    "a=(1,2,3,4,5)\n",
    "b=('v',54,3.5,\"mark\")\n",
    "print(a)\n",
    "print(b)"
   ],
   "outputs": [
    {
     "name": "stdout",
     "output_type": "stream",
     "text": [
      "(1, 2, 3, 4, 5)\n",
      "('v', 54, 3.5, 'mark')\n"
     ]
    }
   ],
   "execution_count": 4
  },
  {
   "metadata": {
    "ExecuteTime": {
     "end_time": "2025-04-10T22:57:58.257366Z",
     "start_time": "2025-04-10T22:57:58.253053Z"
    }
   },
   "cell_type": "code",
   "source": "print(a[1])",
   "id": "ee4c5ea211f7c13a",
   "outputs": [
    {
     "name": "stdout",
     "output_type": "stream",
     "text": [
      "2\n"
     ]
    }
   ],
   "execution_count": 6
  },
  {
   "metadata": {
    "ExecuteTime": {
     "end_time": "2025-04-10T23:01:31.650291Z",
     "start_time": "2025-04-10T23:01:31.624036Z"
    }
   },
   "cell_type": "code",
   "source": [
    "a[1]=10\n",
    "print(a)"
   ],
   "id": "fea3ccfc27b233ea",
   "outputs": [
    {
     "ename": "TypeError",
     "evalue": "'tuple' object does not support item assignment",
     "output_type": "error",
     "traceback": [
      "\u001B[31m---------------------------------------------------------------------------\u001B[39m",
      "\u001B[31mTypeError\u001B[39m                                 Traceback (most recent call last)",
      "\u001B[36mCell\u001B[39m\u001B[36m \u001B[39m\u001B[32mIn[9]\u001B[39m\u001B[32m, line 1\u001B[39m\n\u001B[32m----> \u001B[39m\u001B[32m1\u001B[39m \u001B[43ma\u001B[49m\u001B[43m[\u001B[49m\u001B[32;43m1\u001B[39;49m\u001B[43m]\u001B[49m=\u001B[32m10\u001B[39m\n\u001B[32m      2\u001B[39m \u001B[38;5;28mprint\u001B[39m(a)\n",
      "\u001B[31mTypeError\u001B[39m: 'tuple' object does not support item assignment"
     ]
    }
   ],
   "execution_count": 9
  },
  {
   "metadata": {
    "ExecuteTime": {
     "end_time": "2025-04-11T01:10:40.214466Z",
     "start_time": "2025-04-11T01:10:40.209630Z"
    }
   },
   "cell_type": "code",
   "source": [
    "#packing\n",
    "x=10,5,45\n",
    "print(x)\n",
    "print(type(x))"
   ],
   "id": "92e29d9c0d23f13",
   "outputs": [
    {
     "name": "stdout",
     "output_type": "stream",
     "text": [
      "(10, 5, 45)\n",
      "<class 'tuple'>\n"
     ]
    }
   ],
   "execution_count": 14
  },
  {
   "metadata": {
    "ExecuteTime": {
     "end_time": "2025-04-11T01:10:30.202025Z",
     "start_time": "2025-04-11T01:10:30.194785Z"
    }
   },
   "cell_type": "code",
   "source": [
    "#Unpaacking\n",
    "y=(\"Venu\",10,'B')\n",
    "print(y)\n",
    "name,marks,grade=y\n",
    "print(name)\n",
    "print(marks)\n",
    "print(grade)"
   ],
   "id": "ed644c9fc68216af",
   "outputs": [
    {
     "name": "stdout",
     "output_type": "stream",
     "text": [
      "('Venu', 10, 'B')\n",
      "Venu\n",
      "10\n",
      "B\n"
     ]
    }
   ],
   "execution_count": 13
  },
  {
   "metadata": {
    "ExecuteTime": {
     "end_time": "2025-04-11T01:12:25.066475Z",
     "start_time": "2025-04-11T01:12:25.060548Z"
    }
   },
   "cell_type": "code",
   "source": [
    "print(y[:])\n",
    "print(y[1:])"
   ],
   "id": "6ec883465792808d",
   "outputs": [
    {
     "name": "stdout",
     "output_type": "stream",
     "text": [
      "('Venu', 10, 'B')\n",
      "(10, 'B')\n"
     ]
    }
   ],
   "execution_count": 16
  },
  {
   "metadata": {},
   "cell_type": "markdown",
   "source": "SETS",
   "id": "636b00735fc60a9c"
  },
  {
   "metadata": {
    "ExecuteTime": {
     "end_time": "2025-04-11T01:54:12.434131Z",
     "start_time": "2025-04-11T01:54:12.428017Z"
    }
   },
   "cell_type": "code",
   "source": [
    "s={1,2,3,4,5}\n",
    "print(s)\n",
    "s1={1,2,3,3,4,4,4,5}\n",
    "print(s1)"
   ],
   "id": "54b7bf46eaf54785",
   "outputs": [
    {
     "name": "stdout",
     "output_type": "stream",
     "text": [
      "{1, 2, 3, 4, 5}\n",
      "{1, 2, 3, 4, 5}\n"
     ]
    }
   ],
   "execution_count": 17
  },
  {
   "metadata": {
    "ExecuteTime": {
     "end_time": "2025-04-11T01:57:29.151855Z",
     "start_time": "2025-04-11T01:57:29.144837Z"
    }
   },
   "cell_type": "code",
   "source": [
    "s.add(8) #add for single item\n",
    "print(s)\n",
    "\n",
    "s.update([7,22,64,73])\n",
    "print(s)"
   ],
   "id": "d58ac9ff9ae283b",
   "outputs": [
    {
     "name": "stdout",
     "output_type": "stream",
     "text": [
      "{1, 2, 3, 4, 5, 8}\n",
      "{64, 1, 2, 3, 4, 5, 7, 8, 73, 22}\n"
     ]
    }
   ],
   "execution_count": 20
  },
  {
   "metadata": {
    "ExecuteTime": {
     "end_time": "2025-04-11T01:58:15.921155Z",
     "start_time": "2025-04-11T01:58:15.916912Z"
    }
   },
   "cell_type": "code",
   "source": [
    "s.remove(3)\n",
    "print(s)"
   ],
   "id": "1951287a6651760f",
   "outputs": [
    {
     "name": "stdout",
     "output_type": "stream",
     "text": [
      "{64, 1, 2, 4, 5, 7, 8, 73, 22}\n"
     ]
    }
   ],
   "execution_count": 21
  },
  {
   "metadata": {
    "ExecuteTime": {
     "end_time": "2025-04-11T01:58:47.424581Z",
     "start_time": "2025-04-11T01:58:47.389905Z"
    }
   },
   "cell_type": "code",
   "source": "s.remove(77)",
   "id": "fceb5710d5ea4e70",
   "outputs": [
    {
     "ename": "KeyError",
     "evalue": "77",
     "output_type": "error",
     "traceback": [
      "\u001B[31m---------------------------------------------------------------------------\u001B[39m",
      "\u001B[31mKeyError\u001B[39m                                  Traceback (most recent call last)",
      "\u001B[36mCell\u001B[39m\u001B[36m \u001B[39m\u001B[32mIn[22]\u001B[39m\u001B[32m, line 1\u001B[39m\n\u001B[32m----> \u001B[39m\u001B[32m1\u001B[39m \u001B[43ms\u001B[49m\u001B[43m.\u001B[49m\u001B[43mremove\u001B[49m\u001B[43m(\u001B[49m\u001B[32;43m77\u001B[39;49m\u001B[43m)\u001B[49m\n",
      "\u001B[31mKeyError\u001B[39m: 77"
     ]
    }
   ],
   "execution_count": 22
  },
  {
   "metadata": {
    "ExecuteTime": {
     "end_time": "2025-04-11T01:58:57.310785Z",
     "start_time": "2025-04-11T01:58:57.305657Z"
    }
   },
   "cell_type": "code",
   "source": "s.discard(77) ",
   "id": "9aa93510daf5517",
   "outputs": [],
   "execution_count": 23
  },
  {
   "metadata": {
    "ExecuteTime": {
     "end_time": "2025-04-11T01:59:31.463678Z",
     "start_time": "2025-04-11T01:59:31.458691Z"
    }
   },
   "cell_type": "code",
   "source": [
    "s.pop()\n",
    "print(s) #and clear() is used to empty the set"
   ],
   "id": "a3919dc0271ef4ae",
   "outputs": [
    {
     "name": "stdout",
     "output_type": "stream",
     "text": [
      "{2, 4, 5, 7, 8, 73, 22}\n"
     ]
    }
   ],
   "execution_count": 25
  },
  {
   "metadata": {
    "ExecuteTime": {
     "end_time": "2025-04-11T02:01:49.334151Z",
     "start_time": "2025-04-11T02:01:49.329261Z"
    }
   },
   "cell_type": "code",
   "source": [
    "x1 ={1,2,3}\n",
    "y1={3,4,5}\n",
    "print(x1 | y1)\n",
    "print(x1 & y1)\n",
    "print(x1 ^ y1)\n",
    "print(x1 - y1)\n",
    "print(y1 - x1)"
   ],
   "id": "f6a4c51f2565e9ef",
   "outputs": [
    {
     "name": "stdout",
     "output_type": "stream",
     "text": [
      "{1, 2, 3, 4, 5}\n",
      "{3}\n",
      "{1, 2, 4, 5}\n",
      "{1, 2}\n",
      "{4, 5}\n"
     ]
    }
   ],
   "execution_count": 30
  },
  {
   "metadata": {},
   "cell_type": "code",
   "outputs": [],
   "execution_count": null,
   "source": "",
   "id": "2a0f6309b05043c0"
  }
 ],
 "metadata": {
  "kernelspec": {
   "display_name": "Python 3",
   "language": "python",
   "name": "python3"
  },
  "language_info": {
   "codemirror_mode": {
    "name": "ipython",
    "version": 2
   },
   "file_extension": ".py",
   "mimetype": "text/x-python",
   "name": "python",
   "nbconvert_exporter": "python",
   "pygments_lexer": "ipython2",
   "version": "2.7.6"
  }
 },
 "nbformat": 4,
 "nbformat_minor": 5
}
