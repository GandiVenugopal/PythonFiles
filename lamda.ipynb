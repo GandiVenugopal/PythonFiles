{
 "cells": [
  {
   "cell_type": "code",
   "id": "initial_id",
   "metadata": {
    "collapsed": true,
    "ExecuteTime": {
     "end_time": "2025-04-11T16:54:42.066842Z",
     "start_time": "2025-04-11T16:54:42.061802Z"
    }
   },
   "source": [
    "add=lambda x: x+5\n",
    "print(add(2))"
   ],
   "outputs": [
    {
     "name": "stdout",
     "output_type": "stream",
     "text": [
      "7\n"
     ]
    }
   ],
   "execution_count": 12
  },
  {
   "metadata": {
    "ExecuteTime": {
     "end_time": "2025-04-11T17:23:35.593826Z",
     "start_time": "2025-04-11T17:23:35.586888Z"
    }
   },
   "cell_type": "code",
   "source": [
    "G=lambda s: \"Pass\" if s>=50 else \"Fail\"\n",
    "print(G(80))\n",
    "print(G(45))"
   ],
   "id": "e3369479ddf6955d",
   "outputs": [
    {
     "name": "stdout",
     "output_type": "stream",
     "text": [
      "Pass\n",
      "Fail\n"
     ]
    }
   ],
   "execution_count": 20
  },
  {
   "metadata": {
    "ExecuteTime": {
     "end_time": "2025-04-11T16:45:31.633209Z",
     "start_time": "2025-04-11T16:45:31.629556Z"
    }
   },
   "cell_type": "code",
   "source": [
    "add=lambda x,y: x+y\n",
    "print(add(2,3))"
   ],
   "id": "5efe149169abe508",
   "outputs": [
    {
     "name": "stdout",
     "output_type": "stream",
     "text": [
      "5\n"
     ]
    }
   ],
   "execution_count": 2
  },
  {
   "metadata": {},
   "cell_type": "code",
   "outputs": [],
   "execution_count": null,
   "source": "",
   "id": "24e39689617e23bd"
  },
  {
   "metadata": {},
   "cell_type": "code",
   "outputs": [],
   "execution_count": null,
   "source": "",
   "id": "c35200b4e5b5be3f"
  },
  {
   "metadata": {
    "ExecuteTime": {
     "end_time": "2025-04-11T16:49:12.103861Z",
     "start_time": "2025-04-11T16:49:07.487327Z"
    }
   },
   "cell_type": "code",
   "source": [
    "a,b=map(int,input().split())\n",
    "print(a,b)"
   ],
   "id": "2755dad1fe85fb9e",
   "outputs": [
    {
     "name": "stdout",
     "output_type": "stream",
     "text": [
      "3 7\n"
     ]
    }
   ],
   "execution_count": 6
  },
  {
   "metadata": {
    "ExecuteTime": {
     "end_time": "2025-04-11T16:52:35.895530Z",
     "start_time": "2025-04-11T16:52:25.780391Z"
    }
   },
   "cell_type": "code",
   "source": [
    "s1,s2=map(str,input().split(\"-\"))\n",
    "print(s1)\n",
    "print(s2)"
   ],
   "id": "4a02d723d545beae",
   "outputs": [
    {
     "name": "stdout",
     "output_type": "stream",
     "text": [
      "jack\n",
      "sparrow\n"
     ]
    }
   ],
   "execution_count": 8
  },
  {
   "metadata": {
    "ExecuteTime": {
     "end_time": "2025-04-11T17:01:59.769902Z",
     "start_time": "2025-04-11T17:01:31.629326Z"
    }
   },
   "cell_type": "code",
   "source": [
    "# Give even and odd numbers\n",
    "l=list(map(int,input().split()))\n",
    "print(l)"
   ],
   "id": "65a56a03c20882d",
   "outputs": [
    {
     "name": "stdout",
     "output_type": "stream",
     "text": [
      "[4, 8, 2, 5, 7, 22, 16, 9, 13, 17, 20]\n"
     ]
    }
   ],
   "execution_count": 17
  },
  {
   "metadata": {
    "ExecuteTime": {
     "end_time": "2025-04-11T17:02:02.139948Z",
     "start_time": "2025-04-11T17:02:02.135474Z"
    }
   },
   "cell_type": "code",
   "source": [
    "# FILTER, it returns all the True values\n",
    "r=list(filter(lambda x: x%2==0,l))\n",
    "print(r)"
   ],
   "id": "32eb5adf8602db70",
   "outputs": [
    {
     "name": "stdout",
     "output_type": "stream",
     "text": [
      "[4, 8, 2, 22, 16, 20]\n"
     ]
    }
   ],
   "execution_count": 18
  },
  {
   "metadata": {
    "ExecuteTime": {
     "end_time": "2025-04-11T17:16:39.352651Z",
     "start_time": "2025-04-11T17:16:39.345824Z"
    }
   },
   "cell_type": "code",
   "source": [
    "# Reduce, \n",
    "from functools import reduce\n",
    "\n",
    "nums = [1, 2, 3, 4]\n",
    "\n",
    "result = reduce(lambda x, y: x + y, nums) #(((1 + 2) + 3) + 4) = 10\n",
    "print(result)   \n"
   ],
   "id": "8abdf2683bf1cc25",
   "outputs": [
    {
     "name": "stdout",
     "output_type": "stream",
     "text": [
      "10\n"
     ]
    }
   ],
   "execution_count": 19
  },
  {
   "metadata": {},
   "cell_type": "code",
   "outputs": [],
   "execution_count": null,
   "source": "",
   "id": "c15401abc120c987"
  }
 ],
 "metadata": {
  "kernelspec": {
   "display_name": "Python 3",
   "language": "python",
   "name": "python3"
  },
  "language_info": {
   "codemirror_mode": {
    "name": "ipython",
    "version": 2
   },
   "file_extension": ".py",
   "mimetype": "text/x-python",
   "name": "python",
   "nbconvert_exporter": "python",
   "pygments_lexer": "ipython2",
   "version": "2.7.6"
  }
 },
 "nbformat": 4,
 "nbformat_minor": 5
}
