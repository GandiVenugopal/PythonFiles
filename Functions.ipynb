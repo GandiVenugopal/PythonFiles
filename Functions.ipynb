{
 "cells": [
  {
   "cell_type": "code",
   "id": "initial_id",
   "metadata": {
    "collapsed": true,
    "ExecuteTime": {
     "end_time": "2025-04-10T16:47:56.055448Z",
     "start_time": "2025-04-10T16:47:56.050934Z"
    }
   },
   "source": [
    "#Function\n",
    "def mark(): \n",
    "    print(\"Hello i am in sdgfhfghfghide abc function\")\n",
    "mark() #calling the function abc"
   ],
   "outputs": [
    {
     "name": "stdout",
     "output_type": "stream",
     "text": [
      "Hello i am in sdgfhfghfghide abc function\n"
     ]
    }
   ],
   "execution_count": 7
  },
  {
   "metadata": {
    "ExecuteTime": {
     "end_time": "2025-04-10T16:48:08.754988Z",
     "start_time": "2025-04-10T16:48:08.748953Z"
    }
   },
   "cell_type": "code",
   "source": [
    "def abc():\n",
    "    print(\"Hello i am in side abc function\")\n",
    "\n",
    "#calling the function\n",
    "abc()\n",
    "abc()\n",
    "abc()"
   ],
   "id": "81f81c5b7d9152b3",
   "outputs": [
    {
     "name": "stdout",
     "output_type": "stream",
     "text": [
      "Hello i am in side abc function\n",
      "Hello i am in side abc function\n",
      "Hello i am in side abc function\n"
     ]
    }
   ],
   "execution_count": 8
  },
  {
   "metadata": {
    "ExecuteTime": {
     "end_time": "2025-04-10T16:50:56.912070Z",
     "start_time": "2025-04-10T16:50:56.907679Z"
    }
   },
   "cell_type": "code",
   "source": [
    "# passing parameters\n",
    "def abc(a,b):\n",
    "    print(\"The parameter value is \",b)\n",
    "    \n",
    "abc(5,2)\n",
    "#abc(\"venu\")"
   ],
   "id": "dd482e8da0732db3",
   "outputs": [
    {
     "name": "stdout",
     "output_type": "stream",
     "text": [
      "The parameter value is  2\n"
     ]
    }
   ],
   "execution_count": 13
  },
  {
   "metadata": {
    "ExecuteTime": {
     "end_time": "2025-04-09T05:08:54.995711Z",
     "start_time": "2025-04-09T05:08:54.992435Z"
    }
   },
   "cell_type": "code",
   "source": "",
   "id": "dfa028adf70b161",
   "outputs": [],
   "execution_count": null
  },
  {
   "metadata": {
    "ExecuteTime": {
     "end_time": "2025-04-10T16:52:43.707580Z",
     "start_time": "2025-04-10T16:52:43.701531Z"
    }
   },
   "cell_type": "code",
   "source": [
    "def abc(a,b):\n",
    "    if a<=b:\n",
    "        print(\"The Greatest number is B\",b)\n",
    "        return b\n",
    "    else:\n",
    "        print(\"The Greatest number is A\",a)\n",
    "        return a\n",
    "    \n",
    "\n",
    "G=abc(b=7,a=15)\n",
    "print(G)"
   ],
   "id": "b33bfb071d7ea278",
   "outputs": [
    {
     "name": "stdout",
     "output_type": "stream",
     "text": [
      "The Greatest number is A 15\n",
      "15\n"
     ]
    }
   ],
   "execution_count": 14
  },
  {
   "metadata": {
    "ExecuteTime": {
     "end_time": "2025-04-10T16:56:32.537084Z",
     "start_time": "2025-04-10T16:56:32.532270Z"
    }
   },
   "cell_type": "code",
   "source": [
    "# sum of N numbers\n",
    "def abc(n):\n",
    "    if n==1:\n",
    "        return n\n",
    "    else:\n",
    "        return n+abc(n-1)\n",
    "\n",
    "\n",
    "Total=abc(10)\n",
    "print(Total)"
   ],
   "id": "bb941131f01f8913",
   "outputs": [
    {
     "name": "stdout",
     "output_type": "stream",
     "text": [
      "55\n"
     ]
    }
   ],
   "execution_count": 15
  },
  {
   "metadata": {
    "ExecuteTime": {
     "end_time": "2025-04-09T05:13:05.856022Z",
     "start_time": "2025-04-09T05:13:05.848885Z"
    }
   },
   "cell_type": "code",
   "source": [
    "def max_number(*args):\n",
    "    print(args[3])\n",
    "    return max(args)\n",
    "\n",
    "# Pass multiple arguments\n",
    "result = max_number(22, 12, 43, 44, 75)\n",
    "print(result)\n"
   ],
   "id": "8aa40dd2b0afb0ac",
   "outputs": [
    {
     "name": "stdout",
     "output_type": "stream",
     "text": [
      "44\n",
      "75\n"
     ]
    }
   ],
   "execution_count": 30
  },
  {
   "metadata": {
    "ExecuteTime": {
     "end_time": "2025-04-09T05:18:53.336568Z",
     "start_time": "2025-04-09T05:18:53.330477Z"
    }
   },
   "cell_type": "code",
   "source": [
    "def student(**kwargs):\n",
    "    for a,b in kwargs.items():\n",
    "        print(f\"{a}: {b}\")\n",
    "\n",
    "student(name=\"Mark\", marks=45)"
   ],
   "id": "50ca1291c196659",
   "outputs": [
    {
     "name": "stdout",
     "output_type": "stream",
     "text": [
      "name: Mark\n",
      "marks: 45\n"
     ]
    }
   ],
   "execution_count": 34
  },
  {
   "metadata": {
    "ExecuteTime": {
     "end_time": "2025-04-10T16:35:40.531397Z",
     "start_time": "2025-04-10T16:35:40.110423Z"
    }
   },
   "cell_type": "code",
   "source": [
    "# Local and Global\n",
    "a=10\n",
    "def Add():\n",
    "    a=a+5\n",
    "    print(a)\n",
    "Add()"
   ],
   "id": "521afdac01c59b93",
   "outputs": [
    {
     "ename": "UnboundLocalError",
     "evalue": "cannot access local variable 'a' where it is not associated with a value",
     "output_type": "error",
     "traceback": [
      "\u001B[31m---------------------------------------------------------------------------\u001B[39m",
      "\u001B[31mUnboundLocalError\u001B[39m                         Traceback (most recent call last)",
      "\u001B[36mCell\u001B[39m\u001B[36m \u001B[39m\u001B[32mIn[3]\u001B[39m\u001B[32m, line 6\u001B[39m\n\u001B[32m      4\u001B[39m     a=a+\u001B[32m5\u001B[39m\n\u001B[32m      5\u001B[39m     \u001B[38;5;28mprint\u001B[39m(a)\n\u001B[32m----> \u001B[39m\u001B[32m6\u001B[39m \u001B[43mAdd\u001B[49m\u001B[43m(\u001B[49m\u001B[43m)\u001B[49m\n",
      "\u001B[36mCell\u001B[39m\u001B[36m \u001B[39m\u001B[32mIn[3]\u001B[39m\u001B[32m, line 4\u001B[39m, in \u001B[36mAdd\u001B[39m\u001B[34m()\u001B[39m\n\u001B[32m      3\u001B[39m \u001B[38;5;28;01mdef\u001B[39;00m\u001B[38;5;250m \u001B[39m\u001B[34mAdd\u001B[39m():\n\u001B[32m----> \u001B[39m\u001B[32m4\u001B[39m     a=\u001B[43ma\u001B[49m+\u001B[32m5\u001B[39m\n\u001B[32m      5\u001B[39m     \u001B[38;5;28mprint\u001B[39m(a)\n",
      "\u001B[31mUnboundLocalError\u001B[39m: cannot access local variable 'a' where it is not associated with a value"
     ]
    }
   ],
   "execution_count": 3
  },
  {
   "metadata": {
    "ExecuteTime": {
     "end_time": "2025-04-10T16:39:10.455078Z",
     "start_time": "2025-04-10T16:39:10.450557Z"
    }
   },
   "cell_type": "code",
   "source": [
    "a=10\n",
    "def Add():\n",
    "    global a\n",
    "    a=a+5\n",
    "    print(a)\n",
    "Add()"
   ],
   "id": "980f661e8cb0a6a2",
   "outputs": [
    {
     "name": "stdout",
     "output_type": "stream",
     "text": [
      "15\n"
     ]
    }
   ],
   "execution_count": 5
  },
  {
   "metadata": {},
   "cell_type": "code",
   "outputs": [],
   "execution_count": null,
   "source": "",
   "id": "bece3d61a4dac5d1"
  }
 ],
 "metadata": {
  "kernelspec": {
   "display_name": "Python 3",
   "language": "python",
   "name": "python3"
  },
  "language_info": {
   "codemirror_mode": {
    "name": "ipython",
    "version": 2
   },
   "file_extension": ".py",
   "mimetype": "text/x-python",
   "name": "python",
   "nbconvert_exporter": "python",
   "pygments_lexer": "ipython2",
   "version": "2.7.6"
  }
 },
 "nbformat": 4,
 "nbformat_minor": 5
}
