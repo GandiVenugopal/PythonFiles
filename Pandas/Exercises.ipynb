{
 "cells": [
  {
   "cell_type": "markdown",
   "metadata": {},
   "source": [
    "# Ex2 - Getting and Knowing your Data"
   ]
  },
  {
   "cell_type": "markdown",
   "metadata": {},
   "source": [
    "### Step 1. Import the necessary libraries"
   ]
  },
  {
   "cell_type": "code",
   "metadata": {
    "collapsed": false,
    "ExecuteTime": {
     "end_time": "2025-05-29T01:30:55.951250Z",
     "start_time": "2025-05-29T01:30:55.947062Z"
    }
   },
   "source": "import pandas as pd",
   "outputs": [],
   "execution_count": 38
  },
  {
   "cell_type": "markdown",
   "metadata": {},
   "source": [
    "### Step 2. Import the dataset from this [address](https://raw.githubusercontent.com/justmarkham/DAT8/master/data/chipotle.tsv). "
   ]
  },
  {
   "cell_type": "markdown",
   "metadata": {},
   "source": [
    "### Step 3. Assign it to a variable called chipo."
   ]
  },
  {
   "cell_type": "code",
   "metadata": {
    "collapsed": false,
    "ExecuteTime": {
     "end_time": "2025-05-29T01:30:56.237470Z",
     "start_time": "2025-05-29T01:30:55.974151Z"
    }
   },
   "source": "chipo =pd.read_csv('https://raw.githubusercontent.com/justmarkham/DAT8/master/data/chipotle.tsv',sep='\\t')",
   "outputs": [],
   "execution_count": 39
  },
  {
   "cell_type": "markdown",
   "metadata": {},
   "source": [
    "### Step 4. See the first 10 entries"
   ]
  },
  {
   "cell_type": "code",
   "metadata": {
    "collapsed": false,
    "scrolled": false,
    "ExecuteTime": {
     "end_time": "2025-05-29T01:30:56.269614Z",
     "start_time": "2025-05-29T01:30:56.254509Z"
    }
   },
   "source": "chipo.head(10)",
   "outputs": [
    {
     "data": {
      "text/plain": [
       "   order_id  quantity                              item_name  \\\n",
       "0         1         1           Chips and Fresh Tomato Salsa   \n",
       "1         1         1                                   Izze   \n",
       "2         1         1                       Nantucket Nectar   \n",
       "3         1         1  Chips and Tomatillo-Green Chili Salsa   \n",
       "4         2         2                           Chicken Bowl   \n",
       "5         3         1                           Chicken Bowl   \n",
       "6         3         1                          Side of Chips   \n",
       "7         4         1                          Steak Burrito   \n",
       "8         4         1                       Steak Soft Tacos   \n",
       "9         5         1                          Steak Burrito   \n",
       "\n",
       "                                  choice_description item_price  \n",
       "0                                                NaN     $2.39   \n",
       "1                                       [Clementine]     $3.39   \n",
       "2                                            [Apple]     $3.39   \n",
       "3                                                NaN     $2.39   \n",
       "4  [Tomatillo-Red Chili Salsa (Hot), [Black Beans...    $16.98   \n",
       "5  [Fresh Tomato Salsa (Mild), [Rice, Cheese, Sou...    $10.98   \n",
       "6                                                NaN     $1.69   \n",
       "7  [Tomatillo Red Chili Salsa, [Fajita Vegetables...    $11.75   \n",
       "8  [Tomatillo Green Chili Salsa, [Pinto Beans, Ch...     $9.25   \n",
       "9  [Fresh Tomato Salsa, [Rice, Black Beans, Pinto...     $9.25   "
      ],
      "text/html": [
       "<div>\n",
       "<style scoped>\n",
       "    .dataframe tbody tr th:only-of-type {\n",
       "        vertical-align: middle;\n",
       "    }\n",
       "\n",
       "    .dataframe tbody tr th {\n",
       "        vertical-align: top;\n",
       "    }\n",
       "\n",
       "    .dataframe thead th {\n",
       "        text-align: right;\n",
       "    }\n",
       "</style>\n",
       "<table border=\"1\" class=\"dataframe\">\n",
       "  <thead>\n",
       "    <tr style=\"text-align: right;\">\n",
       "      <th></th>\n",
       "      <th>order_id</th>\n",
       "      <th>quantity</th>\n",
       "      <th>item_name</th>\n",
       "      <th>choice_description</th>\n",
       "      <th>item_price</th>\n",
       "    </tr>\n",
       "  </thead>\n",
       "  <tbody>\n",
       "    <tr>\n",
       "      <th>0</th>\n",
       "      <td>1</td>\n",
       "      <td>1</td>\n",
       "      <td>Chips and Fresh Tomato Salsa</td>\n",
       "      <td>NaN</td>\n",
       "      <td>$2.39</td>\n",
       "    </tr>\n",
       "    <tr>\n",
       "      <th>1</th>\n",
       "      <td>1</td>\n",
       "      <td>1</td>\n",
       "      <td>Izze</td>\n",
       "      <td>[Clementine]</td>\n",
       "      <td>$3.39</td>\n",
       "    </tr>\n",
       "    <tr>\n",
       "      <th>2</th>\n",
       "      <td>1</td>\n",
       "      <td>1</td>\n",
       "      <td>Nantucket Nectar</td>\n",
       "      <td>[Apple]</td>\n",
       "      <td>$3.39</td>\n",
       "    </tr>\n",
       "    <tr>\n",
       "      <th>3</th>\n",
       "      <td>1</td>\n",
       "      <td>1</td>\n",
       "      <td>Chips and Tomatillo-Green Chili Salsa</td>\n",
       "      <td>NaN</td>\n",
       "      <td>$2.39</td>\n",
       "    </tr>\n",
       "    <tr>\n",
       "      <th>4</th>\n",
       "      <td>2</td>\n",
       "      <td>2</td>\n",
       "      <td>Chicken Bowl</td>\n",
       "      <td>[Tomatillo-Red Chili Salsa (Hot), [Black Beans...</td>\n",
       "      <td>$16.98</td>\n",
       "    </tr>\n",
       "    <tr>\n",
       "      <th>5</th>\n",
       "      <td>3</td>\n",
       "      <td>1</td>\n",
       "      <td>Chicken Bowl</td>\n",
       "      <td>[Fresh Tomato Salsa (Mild), [Rice, Cheese, Sou...</td>\n",
       "      <td>$10.98</td>\n",
       "    </tr>\n",
       "    <tr>\n",
       "      <th>6</th>\n",
       "      <td>3</td>\n",
       "      <td>1</td>\n",
       "      <td>Side of Chips</td>\n",
       "      <td>NaN</td>\n",
       "      <td>$1.69</td>\n",
       "    </tr>\n",
       "    <tr>\n",
       "      <th>7</th>\n",
       "      <td>4</td>\n",
       "      <td>1</td>\n",
       "      <td>Steak Burrito</td>\n",
       "      <td>[Tomatillo Red Chili Salsa, [Fajita Vegetables...</td>\n",
       "      <td>$11.75</td>\n",
       "    </tr>\n",
       "    <tr>\n",
       "      <th>8</th>\n",
       "      <td>4</td>\n",
       "      <td>1</td>\n",
       "      <td>Steak Soft Tacos</td>\n",
       "      <td>[Tomatillo Green Chili Salsa, [Pinto Beans, Ch...</td>\n",
       "      <td>$9.25</td>\n",
       "    </tr>\n",
       "    <tr>\n",
       "      <th>9</th>\n",
       "      <td>5</td>\n",
       "      <td>1</td>\n",
       "      <td>Steak Burrito</td>\n",
       "      <td>[Fresh Tomato Salsa, [Rice, Black Beans, Pinto...</td>\n",
       "      <td>$9.25</td>\n",
       "    </tr>\n",
       "  </tbody>\n",
       "</table>\n",
       "</div>"
      ]
     },
     "execution_count": 40,
     "metadata": {},
     "output_type": "execute_result"
    }
   ],
   "execution_count": 40
  },
  {
   "cell_type": "markdown",
   "metadata": {},
   "source": [
    "### Step 5. What is the number of observations in the dataset?"
   ]
  },
  {
   "cell_type": "code",
   "metadata": {
    "collapsed": false,
    "ExecuteTime": {
     "end_time": "2025-05-29T01:30:56.619440Z",
     "start_time": "2025-05-29T01:30:56.606344Z"
    }
   },
   "source": [
    "# Solution 1\n",
    "print(chipo.describe())"
   ],
   "outputs": [
    {
     "name": "stdout",
     "output_type": "stream",
     "text": [
      "          order_id     quantity\n",
      "count  4622.000000  4622.000000\n",
      "mean    927.254868     1.075725\n",
      "std     528.890796     0.410186\n",
      "min       1.000000     1.000000\n",
      "25%     477.250000     1.000000\n",
      "50%     926.000000     1.000000\n",
      "75%    1393.000000     1.000000\n",
      "max    1834.000000    15.000000\n"
     ]
    }
   ],
   "execution_count": 41
  },
  {
   "cell_type": "code",
   "metadata": {
    "collapsed": false,
    "ExecuteTime": {
     "end_time": "2025-05-29T01:30:56.760810Z",
     "start_time": "2025-05-29T01:30:56.756234Z"
    }
   },
   "source": [
    "# Solution 2\n",
    "print(chipo.shape[0])\n"
   ],
   "outputs": [
    {
     "name": "stdout",
     "output_type": "stream",
     "text": [
      "4622\n"
     ]
    }
   ],
   "execution_count": 42
  },
  {
   "cell_type": "markdown",
   "metadata": {},
   "source": [
    "### Step 6. What is the number of columns in the dataset?"
   ]
  },
  {
   "cell_type": "code",
   "metadata": {
    "collapsed": false,
    "ExecuteTime": {
     "end_time": "2025-05-29T01:30:56.868975Z",
     "start_time": "2025-05-29T01:30:56.863875Z"
    }
   },
   "source": "print(chipo.shape[1])",
   "outputs": [
    {
     "name": "stdout",
     "output_type": "stream",
     "text": [
      "5\n"
     ]
    }
   ],
   "execution_count": 43
  },
  {
   "cell_type": "markdown",
   "metadata": {},
   "source": [
    "### Step 7. Print the name of all the columns."
   ]
  },
  {
   "cell_type": "code",
   "metadata": {
    "collapsed": false,
    "ExecuteTime": {
     "end_time": "2025-05-29T01:30:56.967673Z",
     "start_time": "2025-05-29T01:30:56.962434Z"
    }
   },
   "source": "print(chipo.columns)",
   "outputs": [
    {
     "name": "stdout",
     "output_type": "stream",
     "text": [
      "Index(['order_id', 'quantity', 'item_name', 'choice_description',\n",
      "       'item_price'],\n",
      "      dtype='object')\n"
     ]
    }
   ],
   "execution_count": 44
  },
  {
   "cell_type": "markdown",
   "metadata": {},
   "source": [
    "### Step 8. How is the dataset indexed?"
   ]
  },
  {
   "cell_type": "code",
   "metadata": {
    "collapsed": false,
    "ExecuteTime": {
     "end_time": "2025-05-29T01:30:57.055409Z",
     "start_time": "2025-05-29T01:30:57.050165Z"
    }
   },
   "source": "print(chipo.index)",
   "outputs": [
    {
     "name": "stdout",
     "output_type": "stream",
     "text": [
      "RangeIndex(start=0, stop=4622, step=1)\n"
     ]
    }
   ],
   "execution_count": 45
  },
  {
   "cell_type": "markdown",
   "metadata": {},
   "source": [
    "### Step 9. Which was the most-ordered item? "
   ]
  },
  {
   "cell_type": "code",
   "metadata": {
    "collapsed": false,
    "ExecuteTime": {
     "end_time": "2025-05-29T01:41:45.579270Z",
     "start_time": "2025-05-29T01:41:45.559990Z"
    }
   },
   "source": "chipo.groupby('order_id').sum()",
   "outputs": [
    {
     "data": {
      "text/plain": [
       "          quantity                                          item_name  \\\n",
       "order_id                                                                \n",
       "1                4  Chips and Fresh Tomato SalsaIzzeNantucket Nect...   \n",
       "2                2                                       Chicken Bowl   \n",
       "3                2                          Chicken BowlSide of Chips   \n",
       "4                2                      Steak BurritoSteak Soft Tacos   \n",
       "5                2                   Steak BurritoChips and Guacamole   \n",
       "...            ...                                                ...   \n",
       "1830             2                        Steak BurritoVeggie Burrito   \n",
       "1831             3                    Carnitas BowlChipsBottled Water   \n",
       "1832             2              Chicken Soft TacosChips and Guacamole   \n",
       "1833             2                         Steak BurritoSteak Burrito   \n",
       "1834             3  Chicken Salad BowlChicken Salad BowlChicken Sa...   \n",
       "\n",
       "                                         choice_description  item_price  \\\n",
       "order_id                                                                  \n",
       "1                                       [Clementine][Apple]       11.56   \n",
       "2         [Tomatillo-Red Chili Salsa (Hot), [Black Beans...       16.98   \n",
       "3         [Fresh Tomato Salsa (Mild), [Rice, Cheese, Sou...       12.67   \n",
       "4         [Tomatillo Red Chili Salsa, [Fajita Vegetables...       21.00   \n",
       "5         [Fresh Tomato Salsa, [Rice, Black Beans, Pinto...       13.70   \n",
       "...                                                     ...         ...   \n",
       "1830      [Fresh Tomato Salsa, [Rice, Sour Cream, Cheese...       23.00   \n",
       "1831      [Fresh Tomato Salsa, [Fajita Vegetables, Rice,...       12.90   \n",
       "1832       [Fresh Tomato Salsa, [Rice, Cheese, Sour Cream]]       13.20   \n",
       "1833      [Fresh Tomato Salsa, [Rice, Black Beans, Sour ...       23.50   \n",
       "1834      [Fresh Tomato Salsa, [Fajita Vegetables, Pinto...       28.75   \n",
       "\n",
       "          revenue  \n",
       "order_id           \n",
       "1           11.56  \n",
       "2           33.96  \n",
       "3           12.67  \n",
       "4           21.00  \n",
       "5           13.70  \n",
       "...           ...  \n",
       "1830        23.00  \n",
       "1831        12.90  \n",
       "1832        13.20  \n",
       "1833        23.50  \n",
       "1834        28.75  \n",
       "\n",
       "[1834 rows x 5 columns]"
      ],
      "text/html": [
       "<div>\n",
       "<style scoped>\n",
       "    .dataframe tbody tr th:only-of-type {\n",
       "        vertical-align: middle;\n",
       "    }\n",
       "\n",
       "    .dataframe tbody tr th {\n",
       "        vertical-align: top;\n",
       "    }\n",
       "\n",
       "    .dataframe thead th {\n",
       "        text-align: right;\n",
       "    }\n",
       "</style>\n",
       "<table border=\"1\" class=\"dataframe\">\n",
       "  <thead>\n",
       "    <tr style=\"text-align: right;\">\n",
       "      <th></th>\n",
       "      <th>quantity</th>\n",
       "      <th>item_name</th>\n",
       "      <th>choice_description</th>\n",
       "      <th>item_price</th>\n",
       "      <th>revenue</th>\n",
       "    </tr>\n",
       "    <tr>\n",
       "      <th>order_id</th>\n",
       "      <th></th>\n",
       "      <th></th>\n",
       "      <th></th>\n",
       "      <th></th>\n",
       "      <th></th>\n",
       "    </tr>\n",
       "  </thead>\n",
       "  <tbody>\n",
       "    <tr>\n",
       "      <th>1</th>\n",
       "      <td>4</td>\n",
       "      <td>Chips and Fresh Tomato SalsaIzzeNantucket Nect...</td>\n",
       "      <td>[Clementine][Apple]</td>\n",
       "      <td>11.56</td>\n",
       "      <td>11.56</td>\n",
       "    </tr>\n",
       "    <tr>\n",
       "      <th>2</th>\n",
       "      <td>2</td>\n",
       "      <td>Chicken Bowl</td>\n",
       "      <td>[Tomatillo-Red Chili Salsa (Hot), [Black Beans...</td>\n",
       "      <td>16.98</td>\n",
       "      <td>33.96</td>\n",
       "    </tr>\n",
       "    <tr>\n",
       "      <th>3</th>\n",
       "      <td>2</td>\n",
       "      <td>Chicken BowlSide of Chips</td>\n",
       "      <td>[Fresh Tomato Salsa (Mild), [Rice, Cheese, Sou...</td>\n",
       "      <td>12.67</td>\n",
       "      <td>12.67</td>\n",
       "    </tr>\n",
       "    <tr>\n",
       "      <th>4</th>\n",
       "      <td>2</td>\n",
       "      <td>Steak BurritoSteak Soft Tacos</td>\n",
       "      <td>[Tomatillo Red Chili Salsa, [Fajita Vegetables...</td>\n",
       "      <td>21.00</td>\n",
       "      <td>21.00</td>\n",
       "    </tr>\n",
       "    <tr>\n",
       "      <th>5</th>\n",
       "      <td>2</td>\n",
       "      <td>Steak BurritoChips and Guacamole</td>\n",
       "      <td>[Fresh Tomato Salsa, [Rice, Black Beans, Pinto...</td>\n",
       "      <td>13.70</td>\n",
       "      <td>13.70</td>\n",
       "    </tr>\n",
       "    <tr>\n",
       "      <th>...</th>\n",
       "      <td>...</td>\n",
       "      <td>...</td>\n",
       "      <td>...</td>\n",
       "      <td>...</td>\n",
       "      <td>...</td>\n",
       "    </tr>\n",
       "    <tr>\n",
       "      <th>1830</th>\n",
       "      <td>2</td>\n",
       "      <td>Steak BurritoVeggie Burrito</td>\n",
       "      <td>[Fresh Tomato Salsa, [Rice, Sour Cream, Cheese...</td>\n",
       "      <td>23.00</td>\n",
       "      <td>23.00</td>\n",
       "    </tr>\n",
       "    <tr>\n",
       "      <th>1831</th>\n",
       "      <td>3</td>\n",
       "      <td>Carnitas BowlChipsBottled Water</td>\n",
       "      <td>[Fresh Tomato Salsa, [Fajita Vegetables, Rice,...</td>\n",
       "      <td>12.90</td>\n",
       "      <td>12.90</td>\n",
       "    </tr>\n",
       "    <tr>\n",
       "      <th>1832</th>\n",
       "      <td>2</td>\n",
       "      <td>Chicken Soft TacosChips and Guacamole</td>\n",
       "      <td>[Fresh Tomato Salsa, [Rice, Cheese, Sour Cream]]</td>\n",
       "      <td>13.20</td>\n",
       "      <td>13.20</td>\n",
       "    </tr>\n",
       "    <tr>\n",
       "      <th>1833</th>\n",
       "      <td>2</td>\n",
       "      <td>Steak BurritoSteak Burrito</td>\n",
       "      <td>[Fresh Tomato Salsa, [Rice, Black Beans, Sour ...</td>\n",
       "      <td>23.50</td>\n",
       "      <td>23.50</td>\n",
       "    </tr>\n",
       "    <tr>\n",
       "      <th>1834</th>\n",
       "      <td>3</td>\n",
       "      <td>Chicken Salad BowlChicken Salad BowlChicken Sa...</td>\n",
       "      <td>[Fresh Tomato Salsa, [Fajita Vegetables, Pinto...</td>\n",
       "      <td>28.75</td>\n",
       "      <td>28.75</td>\n",
       "    </tr>\n",
       "  </tbody>\n",
       "</table>\n",
       "<p>1834 rows × 5 columns</p>\n",
       "</div>"
      ]
     },
     "execution_count": 56,
     "metadata": {},
     "output_type": "execute_result"
    }
   ],
   "execution_count": 56
  },
  {
   "metadata": {},
   "cell_type": "markdown",
   "source": ""
  },
  {
   "cell_type": "markdown",
   "metadata": {},
   "source": [
    "### Step 10. For the most-ordered item, how many items were ordered?"
   ]
  },
  {
   "cell_type": "code",
   "metadata": {
    "collapsed": false,
    "ExecuteTime": {
     "end_time": "2025-05-29T01:30:57.187474Z",
     "start_time": "2025-05-29T01:30:57.171631Z"
    }
   },
   "source": "chipo.groupby('order_id').sum()\n",
   "outputs": [
    {
     "data": {
      "text/plain": [
       "          quantity                                          item_name  \\\n",
       "order_id                                                                \n",
       "1                4  Chips and Fresh Tomato SalsaIzzeNantucket Nect...   \n",
       "2                2                                       Chicken Bowl   \n",
       "3                2                          Chicken BowlSide of Chips   \n",
       "4                2                      Steak BurritoSteak Soft Tacos   \n",
       "5                2                   Steak BurritoChips and Guacamole   \n",
       "...            ...                                                ...   \n",
       "1830             2                        Steak BurritoVeggie Burrito   \n",
       "1831             3                    Carnitas BowlChipsBottled Water   \n",
       "1832             2              Chicken Soft TacosChips and Guacamole   \n",
       "1833             2                         Steak BurritoSteak Burrito   \n",
       "1834             3  Chicken Salad BowlChicken Salad BowlChicken Sa...   \n",
       "\n",
       "                                         choice_description  \\\n",
       "order_id                                                      \n",
       "1                                       [Clementine][Apple]   \n",
       "2         [Tomatillo-Red Chili Salsa (Hot), [Black Beans...   \n",
       "3         [Fresh Tomato Salsa (Mild), [Rice, Cheese, Sou...   \n",
       "4         [Tomatillo Red Chili Salsa, [Fajita Vegetables...   \n",
       "5         [Fresh Tomato Salsa, [Rice, Black Beans, Pinto...   \n",
       "...                                                     ...   \n",
       "1830      [Fresh Tomato Salsa, [Rice, Sour Cream, Cheese...   \n",
       "1831      [Fresh Tomato Salsa, [Fajita Vegetables, Rice,...   \n",
       "1832       [Fresh Tomato Salsa, [Rice, Cheese, Sour Cream]]   \n",
       "1833      [Fresh Tomato Salsa, [Rice, Black Beans, Sour ...   \n",
       "1834      [Fresh Tomato Salsa, [Fajita Vegetables, Pinto...   \n",
       "\n",
       "                        item_price  \n",
       "order_id                            \n",
       "1         $2.39 $3.39 $3.39 $2.39   \n",
       "2                          $16.98   \n",
       "3                    $10.98 $1.69   \n",
       "4                    $11.75 $9.25   \n",
       "5                     $9.25 $4.45   \n",
       "...                            ...  \n",
       "1830                $11.75 $11.25   \n",
       "1831            $9.25 $2.15 $1.50   \n",
       "1832                  $8.75 $4.45   \n",
       "1833                $11.75 $11.75   \n",
       "1834           $11.25 $8.75 $8.75   \n",
       "\n",
       "[1834 rows x 4 columns]"
      ],
      "text/html": [
       "<div>\n",
       "<style scoped>\n",
       "    .dataframe tbody tr th:only-of-type {\n",
       "        vertical-align: middle;\n",
       "    }\n",
       "\n",
       "    .dataframe tbody tr th {\n",
       "        vertical-align: top;\n",
       "    }\n",
       "\n",
       "    .dataframe thead th {\n",
       "        text-align: right;\n",
       "    }\n",
       "</style>\n",
       "<table border=\"1\" class=\"dataframe\">\n",
       "  <thead>\n",
       "    <tr style=\"text-align: right;\">\n",
       "      <th></th>\n",
       "      <th>quantity</th>\n",
       "      <th>item_name</th>\n",
       "      <th>choice_description</th>\n",
       "      <th>item_price</th>\n",
       "    </tr>\n",
       "    <tr>\n",
       "      <th>order_id</th>\n",
       "      <th></th>\n",
       "      <th></th>\n",
       "      <th></th>\n",
       "      <th></th>\n",
       "    </tr>\n",
       "  </thead>\n",
       "  <tbody>\n",
       "    <tr>\n",
       "      <th>1</th>\n",
       "      <td>4</td>\n",
       "      <td>Chips and Fresh Tomato SalsaIzzeNantucket Nect...</td>\n",
       "      <td>[Clementine][Apple]</td>\n",
       "      <td>$2.39 $3.39 $3.39 $2.39</td>\n",
       "    </tr>\n",
       "    <tr>\n",
       "      <th>2</th>\n",
       "      <td>2</td>\n",
       "      <td>Chicken Bowl</td>\n",
       "      <td>[Tomatillo-Red Chili Salsa (Hot), [Black Beans...</td>\n",
       "      <td>$16.98</td>\n",
       "    </tr>\n",
       "    <tr>\n",
       "      <th>3</th>\n",
       "      <td>2</td>\n",
       "      <td>Chicken BowlSide of Chips</td>\n",
       "      <td>[Fresh Tomato Salsa (Mild), [Rice, Cheese, Sou...</td>\n",
       "      <td>$10.98 $1.69</td>\n",
       "    </tr>\n",
       "    <tr>\n",
       "      <th>4</th>\n",
       "      <td>2</td>\n",
       "      <td>Steak BurritoSteak Soft Tacos</td>\n",
       "      <td>[Tomatillo Red Chili Salsa, [Fajita Vegetables...</td>\n",
       "      <td>$11.75 $9.25</td>\n",
       "    </tr>\n",
       "    <tr>\n",
       "      <th>5</th>\n",
       "      <td>2</td>\n",
       "      <td>Steak BurritoChips and Guacamole</td>\n",
       "      <td>[Fresh Tomato Salsa, [Rice, Black Beans, Pinto...</td>\n",
       "      <td>$9.25 $4.45</td>\n",
       "    </tr>\n",
       "    <tr>\n",
       "      <th>...</th>\n",
       "      <td>...</td>\n",
       "      <td>...</td>\n",
       "      <td>...</td>\n",
       "      <td>...</td>\n",
       "    </tr>\n",
       "    <tr>\n",
       "      <th>1830</th>\n",
       "      <td>2</td>\n",
       "      <td>Steak BurritoVeggie Burrito</td>\n",
       "      <td>[Fresh Tomato Salsa, [Rice, Sour Cream, Cheese...</td>\n",
       "      <td>$11.75 $11.25</td>\n",
       "    </tr>\n",
       "    <tr>\n",
       "      <th>1831</th>\n",
       "      <td>3</td>\n",
       "      <td>Carnitas BowlChipsBottled Water</td>\n",
       "      <td>[Fresh Tomato Salsa, [Fajita Vegetables, Rice,...</td>\n",
       "      <td>$9.25 $2.15 $1.50</td>\n",
       "    </tr>\n",
       "    <tr>\n",
       "      <th>1832</th>\n",
       "      <td>2</td>\n",
       "      <td>Chicken Soft TacosChips and Guacamole</td>\n",
       "      <td>[Fresh Tomato Salsa, [Rice, Cheese, Sour Cream]]</td>\n",
       "      <td>$8.75 $4.45</td>\n",
       "    </tr>\n",
       "    <tr>\n",
       "      <th>1833</th>\n",
       "      <td>2</td>\n",
       "      <td>Steak BurritoSteak Burrito</td>\n",
       "      <td>[Fresh Tomato Salsa, [Rice, Black Beans, Sour ...</td>\n",
       "      <td>$11.75 $11.75</td>\n",
       "    </tr>\n",
       "    <tr>\n",
       "      <th>1834</th>\n",
       "      <td>3</td>\n",
       "      <td>Chicken Salad BowlChicken Salad BowlChicken Sa...</td>\n",
       "      <td>[Fresh Tomato Salsa, [Fajita Vegetables, Pinto...</td>\n",
       "      <td>$11.25 $8.75 $8.75</td>\n",
       "    </tr>\n",
       "  </tbody>\n",
       "</table>\n",
       "<p>1834 rows × 4 columns</p>\n",
       "</div>"
      ]
     },
     "execution_count": 46,
     "metadata": {},
     "output_type": "execute_result"
    }
   ],
   "execution_count": 46
  },
  {
   "cell_type": "markdown",
   "metadata": {},
   "source": [
    "### Step 11. What was the most ordered item in the choice_description column?"
   ]
  },
  {
   "cell_type": "code",
   "metadata": {
    "collapsed": false,
    "ExecuteTime": {
     "end_time": "2025-05-29T01:30:57.259246Z",
     "start_time": "2025-05-29T01:30:57.245041Z"
    }
   },
   "source": [
    "a=chipo.groupby('order_id').sum()\n",
    "a.head(1)"
   ],
   "outputs": [
    {
     "data": {
      "text/plain": [
       "          quantity                                          item_name  \\\n",
       "order_id                                                                \n",
       "1                4  Chips and Fresh Tomato SalsaIzzeNantucket Nect...   \n",
       "\n",
       "           choice_description                item_price  \n",
       "order_id                                                 \n",
       "1         [Clementine][Apple]  $2.39 $3.39 $3.39 $2.39   "
      ],
      "text/html": [
       "<div>\n",
       "<style scoped>\n",
       "    .dataframe tbody tr th:only-of-type {\n",
       "        vertical-align: middle;\n",
       "    }\n",
       "\n",
       "    .dataframe tbody tr th {\n",
       "        vertical-align: top;\n",
       "    }\n",
       "\n",
       "    .dataframe thead th {\n",
       "        text-align: right;\n",
       "    }\n",
       "</style>\n",
       "<table border=\"1\" class=\"dataframe\">\n",
       "  <thead>\n",
       "    <tr style=\"text-align: right;\">\n",
       "      <th></th>\n",
       "      <th>quantity</th>\n",
       "      <th>item_name</th>\n",
       "      <th>choice_description</th>\n",
       "      <th>item_price</th>\n",
       "    </tr>\n",
       "    <tr>\n",
       "      <th>order_id</th>\n",
       "      <th></th>\n",
       "      <th></th>\n",
       "      <th></th>\n",
       "      <th></th>\n",
       "    </tr>\n",
       "  </thead>\n",
       "  <tbody>\n",
       "    <tr>\n",
       "      <th>1</th>\n",
       "      <td>4</td>\n",
       "      <td>Chips and Fresh Tomato SalsaIzzeNantucket Nect...</td>\n",
       "      <td>[Clementine][Apple]</td>\n",
       "      <td>$2.39 $3.39 $3.39 $2.39</td>\n",
       "    </tr>\n",
       "  </tbody>\n",
       "</table>\n",
       "</div>"
      ]
     },
     "execution_count": 47,
     "metadata": {},
     "output_type": "execute_result"
    }
   ],
   "execution_count": 47
  },
  {
   "cell_type": "markdown",
   "metadata": {},
   "source": [
    "### Step 12. How many items were orderd in total?"
   ]
  },
  {
   "cell_type": "code",
   "metadata": {
    "collapsed": false,
    "ExecuteTime": {
     "end_time": "2025-05-29T01:30:57.380510Z",
     "start_time": "2025-05-29T01:30:57.375843Z"
    }
   },
   "source": "print(chipo['quantity'].sum())\n",
   "outputs": [
    {
     "name": "stdout",
     "output_type": "stream",
     "text": [
      "4972\n"
     ]
    }
   ],
   "execution_count": 48
  },
  {
   "cell_type": "markdown",
   "metadata": {},
   "source": [
    "### Step 13. Turn the item price into a float"
   ]
  },
  {
   "cell_type": "markdown",
   "metadata": {},
   "source": [
    "#### Step 13.a. Check the item price type"
   ]
  },
  {
   "cell_type": "code",
   "metadata": {
    "collapsed": false,
    "ExecuteTime": {
     "end_time": "2025-05-29T01:30:57.513103Z",
     "start_time": "2025-05-29T01:30:57.507453Z"
    }
   },
   "source": "print(chipo['item_price'].dtype)",
   "outputs": [
    {
     "name": "stdout",
     "output_type": "stream",
     "text": [
      "object\n"
     ]
    }
   ],
   "execution_count": 49
  },
  {
   "cell_type": "markdown",
   "metadata": {},
   "source": [
    "#### Step 13.b. Create a lambda function and change the type of item price"
   ]
  },
  {
   "cell_type": "code",
   "metadata": {
    "collapsed": true,
    "ExecuteTime": {
     "end_time": "2025-05-29T01:30:57.624328Z",
     "start_time": "2025-05-29T01:30:57.615331Z"
    }
   },
   "source": "chipo['item_price'] = chipo['item_price'].apply(lambda x: float(x.replace('$', '')))\n",
   "outputs": [],
   "execution_count": 50
  },
  {
   "cell_type": "markdown",
   "metadata": {},
   "source": [
    "#### Step 13.c. Check the item price type"
   ]
  },
  {
   "cell_type": "code",
   "metadata": {
    "collapsed": false,
    "ExecuteTime": {
     "end_time": "2025-05-29T01:30:57.663062Z",
     "start_time": "2025-05-29T01:30:57.658614Z"
    }
   },
   "source": "print(chipo['item_price'].dtype)",
   "outputs": [
    {
     "name": "stdout",
     "output_type": "stream",
     "text": [
      "float64\n"
     ]
    }
   ],
   "execution_count": 51
  },
  {
   "cell_type": "markdown",
   "metadata": {},
   "source": [
    "### Step 14. How much was the revenue for the period in the dataset?"
   ]
  },
  {
   "cell_type": "code",
   "metadata": {
    "collapsed": false,
    "ExecuteTime": {
     "end_time": "2025-05-29T01:30:57.711331Z",
     "start_time": "2025-05-29T01:30:57.705591Z"
    }
   },
   "source": [
    "chipo['revenue'] = chipo['quantity'] * chipo['item_price']\n",
    "total_revenue = chipo['revenue'].sum()\n",
    "print(f\"Total revenue: ${total_revenue:.2f}\")"
   ],
   "outputs": [
    {
     "name": "stdout",
     "output_type": "stream",
     "text": [
      "Total revenue: $39237.02\n"
     ]
    }
   ],
   "execution_count": 52
  },
  {
   "cell_type": "markdown",
   "metadata": {},
   "source": [
    "### Step 15. How many orders were made in the period?"
   ]
  },
  {
   "cell_type": "code",
   "metadata": {
    "collapsed": false,
    "ExecuteTime": {
     "end_time": "2025-05-29T01:30:57.767530Z",
     "start_time": "2025-05-29T01:30:57.762083Z"
    }
   },
   "source": [
    "total_orders = chipo['order_id'].nunique()\n",
    "print(f\"Total orders: {total_orders}\")"
   ],
   "outputs": [
    {
     "name": "stdout",
     "output_type": "stream",
     "text": [
      "Total orders: 1834\n"
     ]
    }
   ],
   "execution_count": 53
  },
  {
   "cell_type": "markdown",
   "metadata": {},
   "source": [
    "### Step 16. What is the average revenue amount per order?"
   ]
  },
  {
   "cell_type": "code",
   "metadata": {
    "collapsed": false,
    "ExecuteTime": {
     "end_time": "2025-05-29T01:30:57.822297Z",
     "start_time": "2025-05-29T01:30:57.818226Z"
    }
   },
   "source": [
    "# Solution 2\n",
    "x=total_revenue/total_orders\n",
    "print(x)"
   ],
   "outputs": [
    {
     "name": "stdout",
     "output_type": "stream",
     "text": [
      "21.39423118865867\n"
     ]
    }
   ],
   "execution_count": 54
  },
  {
   "cell_type": "markdown",
   "metadata": {},
   "source": [
    "### Step 17. How many different items are sold?"
   ]
  },
  {
   "cell_type": "code",
   "metadata": {
    "collapsed": false,
    "ExecuteTime": {
     "end_time": "2025-05-29T01:30:57.858448Z",
     "start_time": "2025-05-29T01:30:57.853130Z"
    }
   },
   "source": [
    "uni_item = chipo['item_name'].nunique()\n",
    "print(f\"Unique items: {uni_item}\")"
   ],
   "outputs": [
    {
     "name": "stdout",
     "output_type": "stream",
     "text": [
      "Unique items: 50\n"
     ]
    }
   ],
   "execution_count": 55
  },
  {
   "cell_type": "code",
   "metadata": {
    "ExecuteTime": {
     "end_time": "2025-05-29T01:30:57.884230Z",
     "start_time": "2025-05-29T01:30:57.881259Z"
    }
   },
   "source": [],
   "outputs": [],
   "execution_count": null
  }
 ],
 "metadata": {
  "anaconda-cloud": {},
  "kernelspec": {
   "display_name": "ruchik",
   "language": "python",
   "name": "python3"
  },
  "language_info": {
   "codemirror_mode": {
    "name": "ipython",
    "version": 3
   },
   "file_extension": ".py",
   "mimetype": "text/x-python",
   "name": "python",
   "nbconvert_exporter": "python",
   "pygments_lexer": "ipython3",
   "version": "3.12.3"
  }
 },
 "nbformat": 4,
 "nbformat_minor": 0
}
